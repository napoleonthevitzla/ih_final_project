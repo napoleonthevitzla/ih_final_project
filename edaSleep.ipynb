{
 "cells": [
  {
   "cell_type": "code",
   "execution_count": 1,
   "metadata": {},
   "outputs": [],
   "source": [
    "# imports\n",
    "import pandas as pd\n",
    "import numpy as np\n",
    "import matplotlib.pyplot as plt\n"
   ]
  },
  {
   "cell_type": "code",
   "execution_count": 2,
   "metadata": {},
   "outputs": [],
   "source": [
    "#Exportamos datasets(elegir esta opción )\n",
    "\n",
    "\n",
    "#Data from garmin source\n",
    "sleep_raw = pd.read_json('./data/sleepData.json')\n",
    "\n",
    "#Data from berseker source\n",
    "#running_raw = pd.read_csv('./data/DataSet_Berseker2022_running_session.csv')\n",
    "#fisio_raw = pd.read_csv('./data/DataSet_Berseker_Fisio_session.csv')\n",
    "#mountain_raw = pd.read_csv('./data/DataSet_Berseker_Mountain_session.csv')\n",
    "#wheight_raw = pd.read_csv('./data/DataSet_Berseker2022_Wheight_form.csv')\n",
    "#felling_raw = pd.read_csv('./data/DataSet_Berseker2022_Feeling_form.csv')\n",
    "\n"
   ]
  },
  {
   "cell_type": "code",
   "execution_count": 3,
   "metadata": {},
   "outputs": [],
   "source": [
    "#EDA sleep_raw\n",
    "\n",
    "#sleep_raw.dtypes\n",
    "#print(sleep_raw.isnull().sum())\n",
    "#print(sleep_raw.columns)\n",
    "#sleep_raw.head(5)\n",
    "#sleep_raw[\"sleepScores\"].value_counts()\n",
    "#sleep_raw[\"spo2SleepSummary\"].value_counts()\n",
    "\n",
    "\n",
    "## Tras la exploración del dataset de Garmin, observo que existe información relevante en la columna sleepScores y spo2SleepSummary\n"
   ]
  },
  {
   "cell_type": "code",
   "execution_count": 4,
   "metadata": {},
   "outputs": [],
   "source": [
    "# Create bouth dataframe with sleepScores and spo2SleepSummary\n",
    "\n",
    "SleepScores_df = sleep_raw[\"sleepScores\"].apply(pd.Series)\n",
    "SleepSpo2Summary_df = sleep_raw[\"spo2SleepSummary\"].apply(pd.Series)"
   ]
  },
  {
   "cell_type": "code",
   "execution_count": 5,
   "metadata": {},
   "outputs": [
    {
     "data": {
      "text/plain": [
       "array([  nan,    0.,  720.,  300.,  660.,  900., 1200.])"
      ]
     },
     "execution_count": 5,
     "metadata": {},
     "output_type": "execute_result"
    }
   ],
   "source": [
    "\n",
    "# Actualmente tenemos 3 dataset (sleep_raw, SleepScores_df, SleepSpo2Summary_df). Nuestro objetivo es identificar todas las columnas y sleccionar cuales son relevantes para el proyecto\n",
    " \n",
    "#SleepScores_df.columns\n",
    "#SleepSpo2Summary_df.columns\n",
    "#sleep_raw.columns\n",
    "sleep_raw[\"unmeasurableSeconds\"].unique()\n",
    "\n"
   ]
  },
  {
   "cell_type": "code",
   "execution_count": 6,
   "metadata": {},
   "outputs": [],
   "source": [
    "columns_sleep_raw = ('sleepStartTimestampGMT', 'sleepEndTimestampGMT','calendarDate',\n",
    "                     'sleepWindowConfirmationType', 'sleepResultType', 'retro','deepSleepSeconds',\n",
    "                     'lightSleepSeconds', 'remSleepSeconds', 'awakeSleepSeconds', 'unmeasurableSeconds',\n",
    "                     'averageRespiration', 'lowestRespiration', 'highestRespiration', 'awakeCount',\n",
    "                     'avgSleepStress', 'sleepScores', 'spo2SleepSummary')\n",
    "\n",
    "\n",
    "columns_sleep_Scores = (0, 'awakeTimeScore', 'awakeningsCountScore','combinedAwakeScore','deepScore',\n",
    "                        'durationScore','feedback','insight','lightScore','overallScore','qualityScore',\n",
    "                        'recoveryScore','remScore', 'restfulnessScore')\n",
    "\n",
    "\n",
    "columns_Spo2 = ( 0,'averageHR','averageSPO2','deviceId','lowestSPO2',\n",
    "                'sleepMeasurementEndGMT','sleepMeasurementStartGMT','userProfilePk')\n"
   ]
  },
  {
   "cell_type": "code",
   "execution_count": 12,
   "metadata": {},
   "outputs": [],
   "source": [
    "\n",
    "#Eliminar: \"sleepWindowConfirmationType\", \"retro\", \"sleepResultType\", \"deepSleepSeconds\", \"lightSleepSeconds\",\"remSleepSeconds\",\"awakeSleepSeconds\",\"unmeasurableSeconds\"\t\n",
    "\n",
    "sleep_raw = sleep_raw.drop(['sleepWindowConfirmationType','retro','sleepResultType','deepSleepSeconds','lightSleepSeconds','remSleepSeconds','awakeSleepSeconds','unmeasurableSeconds'], axis=1)\n"
   ]
  },
  {
   "cell_type": "code",
   "execution_count": 13,
   "metadata": {},
   "outputs": [],
   "source": [
    "SleepScores_df.head()\n",
    "#Eliminar : 0\n",
    "SleepScores_df = SleepScores_df.drop([0], axis=1)"
   ]
  },
  {
   "cell_type": "code",
   "execution_count": 14,
   "metadata": {},
   "outputs": [
    {
     "data": {
      "text/plain": [
       "array([nan, 'POSITIVE_RECOVERING', 'NEGATIVE_SHORT_AND_POOR_STRUCTURE',\n",
       "       'NEGATIVE_SHORT_AND_POOR_QUALITY', 'NEGATIVE_NOT_REFRESHING',\n",
       "       'NEGATIVE_RESTLESS', 'POSITIVE_LONG_AND_REFRESHING',\n",
       "       'POSITIVE_SHORT_BUT_RECOVERING', 'POSITIVE_SHORT_BUT_REFRESHING',\n",
       "       'POSITIVE_LONG_AND_RECOVERING', 'POSITIVE_REFRESHING',\n",
       "       'POSITIVE_SHORT_BUT_DEEP', 'POSITIVE_HIGHLY_RECOVERING',\n",
       "       'NEGATIVE_LONG_BUT_RESTLESS', 'POSITIVE_SHORT_BUT_CONTINUOUS',\n",
       "       'NEGATIVE_POOR_STRUCTURE', 'NONE', 'POSITIVE_DEEP',\n",
       "       'NEGATIVE_LONG_BUT_POOR_QUALITY', 'POSITIVE_SHORT_BUT_CALM',\n",
       "       'NEGATIVE_LONG_BUT_NOT_REFRESHING'], dtype=object)"
      ]
     },
     "execution_count": 14,
     "metadata": {},
     "output_type": "execute_result"
    }
   ],
   "source": [
    "SleepScores_df['feedback'].unique()"
   ]
  },
  {
   "cell_type": "code",
   "execution_count": 16,
   "metadata": {},
   "outputs": [],
   "source": [
    "\n",
    "SleepSpo2Summary_df.head()\n",
    "#Eliminar : 0\n",
    "SleepSpo2Summary_df = SleepSpo2Summary_df.drop([0,'deviceId','userProfilePk'], axis=1)"
   ]
  },
  {
   "cell_type": "code",
   "execution_count": 20,
   "metadata": {},
   "outputs": [
    {
     "data": {
      "text/plain": [
       "Index(['sleepStartTimestampGMT', 'sleepEndTimestampGMT', 'calendarDate',\n",
       "       'averageRespiration', 'lowestRespiration', 'highestRespiration',\n",
       "       'awakeCount', 'avgSleepStress', 'awakeTimeScore',\n",
       "       'awakeningsCountScore', 'combinedAwakeScore', 'deepScore',\n",
       "       'durationScore', 'feedback', 'insight', 'lightScore', 'overallScore',\n",
       "       'qualityScore', 'recoveryScore', 'remScore', 'restfulnessScore',\n",
       "       'averageHR', 'averageSPO2', 'lowestSPO2', 'sleepMeasurementEndGMT',\n",
       "       'sleepMeasurementStartGMT'],\n",
       "      dtype='object')"
      ]
     },
     "execution_count": 20,
     "metadata": {},
     "output_type": "execute_result"
    }
   ],
   "source": [
    "#concat dataframes to create garmin_sleep\n",
    "\n",
    "\n",
    "garmin_sleep = pd.concat([sleep_raw, SleepScores_df,SleepSpo2Summary_df], axis=1)\n",
    "\n",
    "garmin_sleep = garmin_sleep.drop(['sleepScores','spo2SleepSummary'], axis=1)\n",
    "\n",
    "garmin_sleep.head()\n",
    "garmin_sleep.columns"
   ]
  },
  {
   "cell_type": "code",
   "execution_count": null,
   "metadata": {},
   "outputs": [],
   "source": []
  }
 ],
 "metadata": {
  "interpreter": {
   "hash": "56a449b4b6c3a217288f974e7779502090f26a1e424eb525f35a32165e90487c"
  },
  "kernelspec": {
   "display_name": "Python 3.7.11 ('ironhack')",
   "language": "python",
   "name": "python3"
  },
  "language_info": {
   "codemirror_mode": {
    "name": "ipython",
    "version": 3
   },
   "file_extension": ".py",
   "mimetype": "text/x-python",
   "name": "python",
   "nbconvert_exporter": "python",
   "pygments_lexer": "ipython3",
   "version": "3.7.13"
  },
  "orig_nbformat": 4
 },
 "nbformat": 4,
 "nbformat_minor": 2
}
